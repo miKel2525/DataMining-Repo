{
 "cells": [
  {
   "cell_type": "markdown",
   "id": "7101c5d8-616e-4899-b6bd-76d32f12717a",
   "metadata": {},
   "source": [
    "<h2>Untited Kingdom Road Accident Data Analysis</h2>\n",
    "<h3>Inclusive years: 2019 -2022</h3>\n",
    "<h4>Aira Mikyl C. Rasca</h4>"
   ]
  },
  {
   "cell_type": "markdown",
   "id": "4a7f6df0-dacd-4392-8ce3-126702866d8f",
   "metadata": {},
   "source": [
    "<h1>Importing libraries</h1>"
   ]
  },
  {
   "cell_type": "markdown",
   "id": "2877ec05-0222-4ec6-bbea-04b2f040e7c5",
   "metadata": {},
   "source": [
    "<h1>Data Analytics Project</h1>"
   ]
  },
  {
   "cell_type": "code",
   "execution_count": 1,
   "id": "5e5a13c1-ec12-43f2-b414-8c106a4d40ad",
   "metadata": {},
   "outputs": [
    {
     "ename": "ModuleNotFoundError",
     "evalue": "No module named 'seaborn'",
     "output_type": "error",
     "traceback": [
      "\u001b[1;31m---------------------------------------------------------------------------\u001b[0m",
      "\u001b[1;31mModuleNotFoundError\u001b[0m                       Traceback (most recent call last)",
      "Cell \u001b[1;32mIn[1], line 3\u001b[0m\n\u001b[0;32m      1\u001b[0m \u001b[38;5;28;01mimport\u001b[39;00m \u001b[38;5;21;01mnumpy\u001b[39;00m \u001b[38;5;28;01mas\u001b[39;00m \u001b[38;5;21;01mnp\u001b[39;00m\n\u001b[0;32m      2\u001b[0m \u001b[38;5;28;01mimport\u001b[39;00m \u001b[38;5;21;01mpandas\u001b[39;00m \u001b[38;5;28;01mas\u001b[39;00m \u001b[38;5;21;01mpd\u001b[39;00m\n\u001b[1;32m----> 3\u001b[0m \u001b[38;5;28;01mimport\u001b[39;00m \u001b[38;5;21;01mseaborn\u001b[39;00m \u001b[38;5;28;01mas\u001b[39;00m \u001b[38;5;21;01msns\u001b[39;00m\n\u001b[0;32m      4\u001b[0m \u001b[38;5;28;01mimport\u001b[39;00m \u001b[38;5;21;01mmatplotlib\u001b[39;00m\u001b[38;5;21;01m.\u001b[39;00m\u001b[38;5;21;01mpyplot\u001b[39;00m \u001b[38;5;28;01mas\u001b[39;00m \u001b[38;5;21;01mplt\u001b[39;00m\n\u001b[0;32m      5\u001b[0m \u001b[38;5;28;01mfrom\u001b[39;00m \u001b[38;5;21;01mscipy\u001b[39;00m\u001b[38;5;21;01m.\u001b[39;00m\u001b[38;5;21;01mstats\u001b[39;00m \u001b[38;5;28;01mimport\u001b[39;00m f_oneway\n",
      "\u001b[1;31mModuleNotFoundError\u001b[0m: No module named 'seaborn'"
     ]
    }
   ],
   "source": [
    "import numpy as np\n",
    "import pandas as pd\n",
    "import seaborn as sns\n",
    "import matplotlib.pyplot as plt\n",
    "from scipy.stats import f_oneway\n",
    "import warnings\n",
    "warnings.filterwarnings('ignore')"
   ]
  },
  {
   "cell_type": "code",
   "execution_count": null,
   "id": "71d050e1-23cf-48f3-84dd-0d190d51e949",
   "metadata": {},
   "outputs": [],
   "source": [
    "accident.info()"
   ]
  },
  {
   "cell_type": "code",
   "execution_count": null,
   "id": "875cb10d-1375-4428-a140-983ae7e7064f",
   "metadata": {},
   "outputs": [],
   "source": [
    "accident.dtypes"
   ]
  },
  {
   "cell_type": "code",
   "execution_count": null,
   "id": "7a7a6514-d6b0-4bf2-aff5-4a4a3835a44b",
   "metadata": {},
   "outputs": [],
   "source": [
    "accident['Accident_Severity'] = accident['Accident_Severity'].astype('category')"
   ]
  },
  {
   "cell_type": "code",
   "execution_count": null,
   "id": "cfbd152b-fef0-431d-b50a-23a4edc54987",
   "metadata": {},
   "outputs": [],
   "source": [
    "accident['Accident_Severity'].value_counts()"
   ]
  },
  {
   "cell_type": "markdown",
   "id": "df462fbc-bddc-443a-aa4c-c41236c7b955",
   "metadata": {},
   "source": [
    "<h1>Converting Object to DateTime Data type</h1>"
   ]
  },
  {
   "cell_type": "code",
   "execution_count": null,
   "id": "ce305418-0f74-49a7-bcd9-42ce3cee262f",
   "metadata": {},
   "outputs": [],
   "source": [
    "accident['Accident Date'] = pd.to_datetime(accident['Accident Date'] , dayfirst = True, errors = 'coerce')"
   ]
  },
  {
   "cell_type": "code",
   "execution_count": null,
   "id": "0fec1b75-8a57-4d3f-b2ea-944ee34e9751",
   "metadata": {},
   "outputs": [],
   "source": [
    "accident.dtypes"
   ]
  },
  {
   "cell_type": "code",
   "execution_count": null,
   "id": "4869e58a-5a38-4d7f-8068-3e64594b5b7f",
   "metadata": {},
   "outputs": [],
   "source": [
    "accident['District Area']"
   ]
  },
  {
   "cell_type": "code",
   "execution_count": null,
   "id": "37845b14-c4bd-413b-864c-e20e6ebbd031",
   "metadata": {},
   "outputs": [],
   "source": [
    "accident[(accident['District Area'] == 'Kensington and Chelsea') & (accident['Accident_Severity'] == 'Serious')].info()"
   ]
  },
  {
   "cell_type": "markdown",
   "id": "b9dd49e7-af7d-4024-9dd6-93ce8857571a",
   "metadata": {},
   "source": [
    "<h1>Univariate</h1>"
   ]
  },
  {
   "cell_type": "markdown",
   "id": "fc1333ae-bcfc-426b-8294-e5826159b4d5",
   "metadata": {},
   "source": [
    "<h1>1.</h1>"
   ]
  },
  {
   "cell_type": "code",
   "execution_count": null,
   "id": "241f77ec-3b3f-4d46-a927-6ed7e29487f9",
   "metadata": {},
   "outputs": [],
   "source": [
    "accident['Accident_Severity'].value_counts()\n"
   ]
  },
  {
   "cell_type": "markdown",
   "id": "ef4a3d80-d159-416a-add7-fc2d30a62abe",
   "metadata": {},
   "source": [
    "<h2>Insight 1 - The most accidents are slight severity but still a significant number of serious accidents need to be addressed. </h2>"
   ]
  },
  {
   "cell_type": "markdown",
   "id": "2fc92ea7-3488-4646-999e-61a20919098f",
   "metadata": {},
   "source": [
    "<h2>2.</h2>"
   ]
  },
  {
   "cell_type": "code",
   "execution_count": null,
   "id": "886d6299-507e-41e0-acf3-aa00caad1755",
   "metadata": {},
   "outputs": [],
   "source": [
    "accidents_by_weather = accident['Weather_Conditions'].value_counts()\n",
    "accidents_by_weather"
   ]
  },
  {
   "cell_type": "markdown",
   "id": "28a2bd4c-9694-4af5-b1e8-9e8686b8090b",
   "metadata": {},
   "source": [
    "<h2>Insight 2 - The weather that most accident often happen is Fine no high winds,</h2>"
   ]
  },
  {
   "cell_type": "markdown",
   "id": "d639e0db-be58-4d1b-a136-989d0422602d",
   "metadata": {},
   "source": [
    "<h1>3.</h1>"
   ]
  },
  {
   "cell_type": "code",
   "execution_count": null,
   "id": "3612e90a-7189-41a6-bcb7-7e4e82dbe4b9",
   "metadata": {},
   "outputs": [],
   "source": [
    "accidents_per_year = accident.groupby(accident['Accident Date'].dt.year).size()"
   ]
  },
  {
   "cell_type": "code",
   "execution_count": null,
   "id": "a02f91c7-6404-4be0-b5e7-499b6f190bb4",
   "metadata": {},
   "outputs": [],
   "source": [
    "accidents_per_year"
   ]
  },
  {
   "cell_type": "markdown",
   "id": "e142c1da-1ffd-4bb0-b660-e87c80c56f72",
   "metadata": {},
   "source": [
    "<h2>Insight 3 - Accidents dropped from 182,115 in 2019 to 144,419 in 2022, showing some improvement.</h2>"
   ]
  },
  {
   "cell_type": "markdown",
   "id": "7a1b2ade-2f41-417f-a13a-7a1513467edd",
   "metadata": {},
   "source": [
    "<h1>4.</h1>"
   ]
  },
  {
   "cell_type": "code",
   "execution_count": null,
   "id": "a1814ddc-3bef-4f95-bbe2-a0467c482b46",
   "metadata": {},
   "outputs": [],
   "source": [
    "accident['Day of the Week'] = accident['Accident Date'].dt.day_name()\n",
    "accidents_by_day = accident['Day of the Week'].value_counts()"
   ]
  },
  {
   "cell_type": "code",
   "execution_count": null,
   "id": "3d421ab9-3a72-45f4-ac3a-a61a1750be0d",
   "metadata": {},
   "outputs": [],
   "source": [
    "accidents_by_day"
   ]
  },
  {
   "cell_type": "markdown",
   "id": "4407fa46-1a58-466c-8a1b-40ace7724f6d",
   "metadata": {},
   "source": [
    "<h2>Insight 4 -Accidents are more common on Saturdays maybe because more people are driving.</h2>"
   ]
  },
  {
   "cell_type": "markdown",
   "id": "6191baaa-a6e3-4522-92a2-84bc0fd01f81",
   "metadata": {},
   "source": [
    "<h1>5. district areas have the highest accident frequency for different levels of accident severity</h1>"
   ]
  },
  {
   "cell_type": "code",
   "execution_count": null,
   "id": "5013fc17-cb82-4ff9-8007-1d0cc939ad2e",
   "metadata": {},
   "outputs": [],
   "source": [
    "accidents_by_area_severity = accident.groupby(['District Area', 'Accident_Severity']).size().reset_index(name='Accident_Count')\n",
    "accidents_by_area_severity"
   ]
  },
  {
   "cell_type": "markdown",
   "id": "01950156-f079-47b7-bc6c-c934fdf2e473",
   "metadata": {},
   "source": [
    "<h2>Insight 5 - Urban areas like Aberdeen City and York have the most accidents, mostly slight or serious, while rural areas like Aberdeenshire see more fatal cases. This suggests that traffic volume and road conditions impact accident severity, highlighting the need for better safety measures in high-risk areas.</h2>"
   ]
  },
  {
   "cell_type": "markdown",
   "id": "2400ab39-ab14-4636-9ae0-865b825c10ca",
   "metadata": {},
   "source": [
    "<h1> 6. Vehicles involved per accident severity</h1>"
   ]
  },
  {
   "cell_type": "markdown",
   "id": "601d4c50-a6f9-4802-85c3-8c49ecd186e3",
   "metadata": {},
   "source": [
    "severity_vec_counts = accident.groupby(\"Accident_Severity\")[\"Number_of_Vehicles\"].mean()\n",
    "severity_vec_counts"
   ]
  },
  {
   "cell_type": "markdown",
   "id": "0cce8607-0c22-43ca-8b70-7cae6edfe7b0",
   "metadata": {},
   "source": [
    "<h2>Insight 6 - Severe accidents typically involve a higher number of vehicles than slight accidents.</h2>"
   ]
  },
  {
   "cell_type": "markdown",
   "id": "f4dee676-d92f-4cf7-81fa-39e28ff420a9",
   "metadata": {},
   "source": [
    "<h1>7.  Detailed count of accidents per district and severity</h1>"
   ]
  },
  {
   "cell_type": "code",
   "execution_count": null,
   "id": "505fa1c0-73e1-4625-aded-1c79244527ff",
   "metadata": {},
   "outputs": [],
   "source": [
    "urban_rural_accidents = accidents_by_area_severity.groupby(['District Area', 'Accident_Severity'])['Accident_Count'].sum().unstack().fillna(0)\n",
    "urban_rural_accidents"
   ]
  },
  {
   "cell_type": "markdown",
   "id": "73647980-3547-4ef5-8524-1d4f42221f51",
   "metadata": {},
   "source": [
    "<h2>Insight 7 - slight accidents are the most frequent, followed by serious and fatal ones. Some districts, like Aberdeenshire and York, have notably high accident counts across all severity levels.</h2>"
   ]
  },
  {
   "cell_type": "markdown",
   "id": "95f24434-06ca-45c3-9f51-f88f4b3d017f",
   "metadata": {},
   "source": [
    "<h1>8. Type of vehicle are involved in accidents</h1>"
   ]
  },
  {
   "cell_type": "code",
   "execution_count": null,
   "id": "27b8b1ef-73bd-4c0c-b244-592ea475d5ff",
   "metadata": {},
   "outputs": [],
   "source": [
    "vehicle_counts = accident['Vehicle_Type'].value_counts().nlargest(5)\n",
    "vehicle_counts"
   ]
  },
  {
   "cell_type": "markdown",
   "id": "944c6ada-5a3a-43fd-941b-2e31fa4af117",
   "metadata": {},
   "source": [
    "<h2>Insight 8 -Cars are involved in accidents the most, significantly more than other vehicle types. Vans, buses, motorcycles, and heavy goods vehicles also contribute but at much lower numbers.</h2>"
   ]
  },
  {
   "cell_type": "markdown",
   "id": "6ead99db-fffd-46f0-aaeb-44104816403c",
   "metadata": {},
   "source": [
    "<h1> 9. What is the distribution of accidents in urban vs. rural areas? </h1>"
   ]
  },
  {
   "cell_type": "code",
   "execution_count": null,
   "id": "3d0e9bc3-cd68-4656-b7b4-027074d4d952",
   "metadata": {},
   "outputs": [],
   "source": [
    "accidents_by_area_type = accident.groupby(['Urban_or_Rural_Area']).size().reset_index(name='Accident_Count')\n",
    "accidents_by_area_type"
   ]
  },
  {
   "cell_type": "markdown",
   "id": "41f65fc7-5fef-43e6-a9c4-025faec68ce5",
   "metadata": {},
   "source": [
    "<h2>Insight 9 -Accidents are more common in urban areas than in rural areas, with urban accidents nearly doubling rural ones. Unallocated cases are minimal.</h2>"
   ]
  },
  {
   "cell_type": "markdown",
   "id": "855f2e5c-12a7-408f-99ec-e3d5c41520ac",
   "metadata": {},
   "source": [
    "<h1>10 most common road surface conditions during accidents?</h1>"
   ]
  },
  {
   "cell_type": "code",
   "execution_count": null,
   "id": "d388b34f-edc5-4efa-bc49-eb161897e9f0",
   "metadata": {},
   "outputs": [],
   "source": [
    "accidents_by_road_surface = accident.groupby(['Road_Surface_Conditions']).size().reset_index(name='Accident_Count')\n",
    "accidents_by_road_surface"
   ]
  },
  {
   "cell_type": "markdown",
   "id": "9552a947-1be2-4476-bb1f-ba5784b0b029",
   "metadata": {},
   "source": [
    "<h2>The most common road surface condition during accidents is \"Dry,\" followed by \"Wet or damp.\" Hazardous conditions like \"Frost or ice\" and \"Snow\" contribute to significantly fewer accidents, while \"Flood over 3cm deep\" has the lowest count.</h2>"
   ]
  },
  {
   "cell_type": "markdown",
   "id": "44f8877e-bc2d-45cd-9566-a36d10140f83",
   "metadata": {},
   "source": [
    "<h1>11. months or seasons have the highest accident rates</h1>"
   ]
  },
  {
   "cell_type": "code",
   "execution_count": null,
   "id": "2463cd66-36ed-4613-8143-e04c4360225c",
   "metadata": {},
   "outputs": [],
   "source": [
    "accidents_by_month = accident.groupby(accident['Accident Date'].dt.month).size().reset_index(name='Accident_Count')\n",
    "accidents_by_month"
   ]
  },
  {
   "cell_type": "markdown",
   "id": "5814535f-823a-4a1e-b780-f7eaf38f315b",
   "metadata": {},
   "source": [
    "<h2>Accidents remain relatively steady throughout the year, but they peak in month 10 and 11, likely influenced by seasonal shifts and weather conditions.</h2>"
   ]
  },
  {
   "cell_type": "markdown",
   "id": "f3ee7955-c9af-48f5-b224-9ee546361cff",
   "metadata": {},
   "source": [
    "<h1>12. distribution of accident severity</h1>"
   ]
  },
  {
   "cell_type": "code",
   "execution_count": null,
   "id": "ef462f04-6ec4-4cf6-a8e5-865928760f8c",
   "metadata": {},
   "outputs": [],
   "source": [
    "severity_counts = accident['Accident_Severity'].value_counts(normalize=True) * 100\n",
    "display(severity_counts.to_frame())"
   ]
  },
  {
   "cell_type": "markdown",
   "id": "25aaa8ac-affc-4d9f-ae45-4422dfa736ee",
   "metadata": {},
   "source": [
    "<h2>Insight 12 - The majority of accidents are slight (85.3%), while serious and fatal accidents are significantly lower at 13.3% and 1.3%, respectively.</h2>"
   ]
  },
  {
   "cell_type": "markdown",
   "id": "a3e17d03-ca29-420a-8f8a-485b9a7b90f4",
   "metadata": {},
   "source": [
    "<h1>13. Correlation Between Weather and Severe Accidents</h1>"
   ]
  },
  {
   "cell_type": "code",
   "execution_count": null,
   "id": "2b7710b3-d20b-4dcd-95ad-399d44e2cccf",
   "metadata": {},
   "outputs": [],
   "source": [
    "weather_severity = accident.groupby(['Weather_Conditions', 'Accident_Severity']).size().unstack().reset_index()\n",
    "weather_severity"
   ]
  },
  {
   "cell_type": "markdown",
   "id": "fe3c27f1-f73f-4613-b0ea-0aa1d746694b",
   "metadata": {},
   "source": [
    "<h2>Insight 13 - Accidents are most frequent in clear weather with no high winds, but severe accidents still occur in fog, mist, and rainy conditions, indicating that poor visibility and wet roads increase accident severity.</h2>"
   ]
  },
  {
   "cell_type": "code",
   "execution_count": null,
   "id": "47c14392-62bb-431c-888b-a2bd64ac9c87",
   "metadata": {},
   "outputs": [],
   "source": [
    "accident.info()"
   ]
  },
  {
   "cell_type": "markdown",
   "id": "abe2f447-5949-444c-aaaf-3cfd5ccd79a3",
   "metadata": {},
   "source": [
    "<h1>14. Is there a correlation between the number of vehicles and casualties</h1>"
   ]
  },
  {
   "cell_type": "code",
   "execution_count": null,
   "id": "51d95558-e367-4203-b2e1-e6b35cfae52b",
   "metadata": {},
   "outputs": [],
   "source": [
    "casualties_by_vehicle_count = accident.groupby('Number_of_Vehicles')['Number_of_Casualties'].sum().reset_index()\n",
    "casualties_by_vehicle_count"
   ]
  },
  {
   "cell_type": "markdown",
   "id": "960420ec-f3a0-4222-b716-ac1e3804c56b",
   "metadata": {},
   "source": [
    "<h2>Casualties increase with the number of vehicles but at a decreasing rate. Most accidents involve 1-2 vehicles, causing the highest casualties. Beyond three vehicles, the rise in casualties is less significant, indicating that severe accidents are more common in smaller collisions.</h2>"
   ]
  },
  {
   "cell_type": "markdown",
   "id": "bfa90eb8-795e-4818-a08c-2db3e821d68f",
   "metadata": {},
   "source": [
    "<h1>15. Trends in Casualties by Accident Severity</h1>"
   ]
  },
  {
   "cell_type": "code",
   "execution_count": null,
   "id": "6d7783cb-f843-4438-9cea-84ffdea4bbb7",
   "metadata": {},
   "outputs": [],
   "source": [
    "casualty_trends_severity = accident.groupby(['Accident Date', 'Accident_Severity'])['Number_of_Casualties'].sum().unstack().fillna(0)\n",
    "casualty_trends_severity\n"
   ]
  },
  {
   "cell_type": "markdown",
   "id": "aa4b2d35-e521-4e71-96c3-faa5226fc2d0",
   "metadata": {},
   "source": [
    "<h2>Fatal, serious, and slight casualties fluctuate daily, with some spikes. Monitoring trends over time can help identify high-risk periods and improve road safety measures</h2>"
   ]
  },
  {
   "cell_type": "markdown",
   "id": "339c339d-84cd-45d2-99fd-9e3703d8d6ee",
   "metadata": {},
   "source": [
    "<h1>16.  Correlation Between Severity Levels</h1>"
   ]
  },
  {
   "cell_type": "code",
   "execution_count": null,
   "id": "e0378fda-5fb3-4e35-aa46-5e5457090f2b",
   "metadata": {},
   "outputs": [],
   "source": [
    "correlation_matrix = casualty_trends_severity.corr()\n",
    "correlation_matrix\n"
   ]
  },
  {
   "cell_type": "markdown",
   "id": "212e64fd-0fd4-481a-954a-8b96d67834dc",
   "metadata": {},
   "source": [
    "<h2>inisght 16 - Serious and slight casualties are moderately correlated (0.51), while fatal casualties have weak links with both, suggesting most accidents result in non-fatal injuries.</h2>"
   ]
  },
  {
   "cell_type": "markdown",
   "id": "dc038bb9-70c2-416b-8ff0-2b2fcddc86d1",
   "metadata": {},
   "source": [
    "<h1>17.Average Casualties per Day of the Week</h1>"
   ]
  },
  {
   "cell_type": "code",
   "execution_count": null,
   "id": "3a032c9c-1e4b-402c-8deb-c2435d4fbde5",
   "metadata": {},
   "outputs": [],
   "source": [
    "\n",
    "casualty_trends_severity.index = pd.to_datetime(casualty_trends_severity.index)\n",
    "casualty_trends_severity['Day_of_Week'] = casualty_trends_severity.index.day_name()\n",
    "average_per_day = casualty_trends_severity.groupby('Day_of_Week').mean()\n",
    "average_per_day\n"
   ]
  },
  {
   "cell_type": "markdown",
   "id": "4abd6f5e-a0e6-4af1-93d5-424655877cb8",
   "metadata": {},
   "source": [
    "<h2>Sundays have the highest fatal casualties, while serious injuries are more common on Saturdays. Slight injuries peak midweek, particularly on Wednesdays and Thursdays.</h2>"
   ]
  },
  {
   "cell_type": "markdown",
   "id": "fecd3782-7a69-4012-b5f7-e19d5d04e65f",
   "metadata": {},
   "source": [
    "<h1>18.</h1>"
   ]
  },
  {
   "cell_type": "code",
   "execution_count": null,
   "id": "d8b6cb8f-509e-44bb-aebd-c6435626b1b5",
   "metadata": {},
   "outputs": [],
   "source": [
    "vehicle_percentage = accident['Vehicle_Type'].value_counts(normalize=True) * 100\n",
    "vehicle_percentage\n"
   ]
  },
  {
   "cell_type": "markdown",
   "id": "54f8cb79-0a32-4052-a3f6-080708f8a23f",
   "metadata": {},
   "source": [
    "<h2>Cars account for the majority of accidents (75.38%), while vans, buses, and motorcycles contribute smaller but notable shares, highlighting their involvement in road incidents.</h2>"
   ]
  },
  {
   "cell_type": "markdown",
   "id": "ba604553-79a7-49ba-bd58-630ebf426983",
   "metadata": {},
   "source": [
    "<h1>19. average number of casualties on different road surface conditions</h1>"
   ]
  },
  {
   "cell_type": "code",
   "execution_count": null,
   "id": "fdf9f844-cf51-4e71-954d-c68bbcc6a6f9",
   "metadata": {},
   "outputs": [],
   "source": [
    "avg_casa_surface = accident.groupby('Road_Surface_Conditions')['Number_of_Casualties'].mean()\n",
    "avg_casa_surface"
   ]
  },
  {
   "cell_type": "markdown",
   "id": "110c7e42-8cf2-4818-8de5-f548e2920ed6",
   "metadata": {},
   "source": [
    "<h2>Insight 19 - Flooded roads have the highest casualties, followed by wet and snowy conditions, while dry roads have the lowest. Slippery surfaces increase accident severity, highlighting the need for cautious driving in bad weather.</h2>"
   ]
  },
  {
   "cell_type": "markdown",
   "id": "b80fc09c-d1ca-4ae0-9d0a-de8776b25a01",
   "metadata": {},
   "source": [
    "<h1>20. How many accidents occurred based on severity, lighting conditions, and road type </h1>"
   ]
  },
  {
   "cell_type": "code",
   "execution_count": null,
   "id": "95c238e9-856f-448d-8601-29100d4f622a",
   "metadata": {},
   "outputs": [],
   "source": [
    "accident_light_road = accident.groupby(['Accident_Severity', 'Light_Conditions', 'Road_Type']).size()\n",
    "accident_light_road"
   ]
  },
  {
   "cell_type": "markdown",
   "id": "f76db96f-1ca1-4d9b-b084-a8be4aa02e95",
   "metadata": {},
   "source": [
    "<h2>Insight 20 - Most accidents happen on single carriageways in daylight, likely due to high traffic. However, fatal accidents are more common in darkness, especially on single carriageways, suggesting poor visibility increases severity. Better lighting and awareness can help reduce risks.</h2>"
   ]
  },
  {
   "cell_type": "code",
   "execution_count": null,
   "id": "cf5241b7-ada9-4c9b-9bc8-3bf9ab2d82d2",
   "metadata": {},
   "outputs": [],
   "source": []
  }
 ],
 "metadata": {
  "kernelspec": {
   "display_name": "Python 3 (ipykernel)",
   "language": "python",
   "name": "python3"
  },
  "language_info": {
   "codemirror_mode": {
    "name": "ipython",
    "version": 3
   },
   "file_extension": ".py",
   "mimetype": "text/x-python",
   "name": "python",
   "nbconvert_exporter": "python",
   "pygments_lexer": "ipython3",
   "version": "3.12.0"
  }
 },
 "nbformat": 4,
 "nbformat_minor": 5
}
