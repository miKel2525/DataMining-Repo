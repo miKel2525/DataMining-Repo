{
 "cells": [
  {
   "cell_type": "markdown",
   "id": "7101c5d8-616e-4899-b6bd-76d32f12717a",
   "metadata": {},
   "source": [
    "<h2>Untited Kingdom Road Accident Data Analysis</h2>\n",
    "<h3>Inclusive years: 2019 -2022</h3>\n",
    "<h4>Aira Mikyl C. Rasca</h4>"
   ]
  },
  {
   "cell_type": "markdown",
   "id": "4a7f6df0-dacd-4392-8ce3-126702866d8f",
   "metadata": {},
   "source": [
    "<h1>Importing libraries</h1>"
   ]
  },
  {
   "cell_type": "markdown",
   "id": "2877ec05-0222-4ec6-bbea-04b2f040e7c5",
   "metadata": {},
   "source": [
    "<h1>Data Analytics Project</h1>"
   ]
  },
  {
   "cell_type": "code",
   "execution_count": 26,
   "id": "5e5a13c1-ec12-43f2-b414-8c106a4d40ad",
   "metadata": {},
   "outputs": [
    {
     "ename": "ModuleNotFoundError",
     "evalue": "No module named 'seaborn'",
     "output_type": "error",
     "traceback": [
      "\u001b[1;31m---------------------------------------------------------------------------\u001b[0m",
      "\u001b[1;31mModuleNotFoundError\u001b[0m                       Traceback (most recent call last)",
      "Cell \u001b[1;32mIn[26], line 3\u001b[0m\n\u001b[0;32m      1\u001b[0m \u001b[38;5;28;01mimport\u001b[39;00m \u001b[38;5;21;01mnumpy\u001b[39;00m \u001b[38;5;28;01mas\u001b[39;00m \u001b[38;5;21;01mnp\u001b[39;00m\n\u001b[0;32m      2\u001b[0m \u001b[38;5;28;01mimport\u001b[39;00m \u001b[38;5;21;01mpandas\u001b[39;00m \u001b[38;5;28;01mas\u001b[39;00m \u001b[38;5;21;01mpd\u001b[39;00m\n\u001b[1;32m----> 3\u001b[0m \u001b[38;5;28;01mimport\u001b[39;00m \u001b[38;5;21;01mseaborn\u001b[39;00m \u001b[38;5;28;01mas\u001b[39;00m \u001b[38;5;21;01msns\u001b[39;00m\n\u001b[0;32m      4\u001b[0m \u001b[38;5;28;01mimport\u001b[39;00m \u001b[38;5;21;01mmatplotlib\u001b[39;00m\u001b[38;5;21;01m.\u001b[39;00m\u001b[38;5;21;01mpyplot\u001b[39;00m \u001b[38;5;28;01mas\u001b[39;00m \u001b[38;5;21;01mplt\u001b[39;00m\n\u001b[0;32m      5\u001b[0m \u001b[38;5;28;01mfrom\u001b[39;00m \u001b[38;5;21;01mscipy\u001b[39;00m\u001b[38;5;21;01m.\u001b[39;00m\u001b[38;5;21;01mstats\u001b[39;00m \u001b[38;5;28;01mimport\u001b[39;00m f_oneway\n",
      "\u001b[1;31mModuleNotFoundError\u001b[0m: No module named 'seaborn'"
     ]
    }
   ],
   "source": [
    "import numpy as np\n",
    "import pandas as pd\n",
    "import seaborn as sns\n",
    "import matplotlib.pyplot as plt\n",
    "from scipy.stats import f_oneway\n",
    "import warnings\n",
    "warnings.filterwarnings('ignore')"
   ]
  },
  {
   "cell_type": "code",
   "execution_count": null,
   "id": "127f7a97-ddea-40e3-b916-761fe3b966c1",
   "metadata": {},
   "outputs": [],
   "source": [
    "accident = pd.read_csv('dataset\\\\accident_data.csv')"
   ]
  },
  {
   "cell_type": "code",
   "execution_count": null,
   "id": "71d050e1-23cf-48f3-84dd-0d190d51e949",
   "metadata": {},
   "outputs": [],
   "source": [
    "accident.info()"
   ]
  },
  {
   "cell_type": "code",
   "execution_count": null,
   "id": "875cb10d-1375-4428-a140-983ae7e7064f",
   "metadata": {},
   "outputs": [],
   "source": [
    "accident.dtypes"
   ]
  },
  {
   "cell_type": "code",
   "execution_count": 51,
   "id": "7a7a6514-d6b0-4bf2-aff5-4a4a3835a44b",
   "metadata": {},
   "outputs": [],
   "source": [
    "accident['Accident_Severity'] = accident['Accident_Severity'].astype('category')"
   ]
  },
  {
   "cell_type": "code",
   "execution_count": 52,
   "id": "cfbd152b-fef0-431d-b50a-23a4edc54987",
   "metadata": {},
   "outputs": [
    {
     "data": {
      "text/plain": [
       "Accident_Severity\n",
       "Slight     563801\n",
       "Serious     88217\n",
       "Fatal        8661\n",
       "Name: count, dtype: int64"
      ]
     },
     "execution_count": 52,
     "metadata": {},
     "output_type": "execute_result"
    }
   ],
   "source": [
    "accident['Accident_Severity'].value_counts()"
   ]
  },
  {
   "cell_type": "markdown",
   "id": "df462fbc-bddc-443a-aa4c-c41236c7b955",
   "metadata": {},
   "source": [
    "<h1>Converting Object to DateTime Data type</h1>"
   ]
  },
  {
   "cell_type": "code",
   "execution_count": 53,
   "id": "ce305418-0f74-49a7-bcd9-42ce3cee262f",
   "metadata": {},
   "outputs": [],
   "source": [
    "accident['Accident Date'] = pd.to_datetime(accident['Accident Date'] , dayfirst = True, errors = 'coerce')"
   ]
  },
  {
   "cell_type": "code",
   "execution_count": 54,
   "id": "0fec1b75-8a57-4d3f-b2ea-944ee34e9751",
   "metadata": {},
   "outputs": [
    {
     "data": {
      "text/plain": [
       "Index                              object\n",
       "Accident_Severity                category\n",
       "Accident Date              datetime64[ns]\n",
       "Latitude                          float64\n",
       "Light_Conditions                   object\n",
       "District Area                      object\n",
       "Longitude                         float64\n",
       "Number_of_Casualties                int64\n",
       "Number_of_Vehicles                  int64\n",
       "Road_Surface_Conditions            object\n",
       "Road_Type                          object\n",
       "Urban_or_Rural_Area                object\n",
       "Weather_Conditions                 object\n",
       "Vehicle_Type                       object\n",
       "Day of the Week                    object\n",
       "dtype: object"
      ]
     },
     "execution_count": 54,
     "metadata": {},
     "output_type": "execute_result"
    }
   ],
   "source": [
    "accident.dtypes"
   ]
  },
  {
   "cell_type": "code",
   "execution_count": 55,
   "id": "4869e58a-5a38-4d7f-8068-3e64594b5b7f",
   "metadata": {},
   "outputs": [
    {
     "data": {
      "text/plain": [
       "0         Kensington and Chelsea\n",
       "1         Kensington and Chelsea\n",
       "2         Kensington and Chelsea\n",
       "3         Kensington and Chelsea\n",
       "4         Kensington and Chelsea\n",
       "                   ...          \n",
       "660674                  Highland\n",
       "660675                  Highland\n",
       "660676                  Highland\n",
       "660677                  Highland\n",
       "660678                  Highland\n",
       "Name: District Area, Length: 660679, dtype: object"
      ]
     },
     "execution_count": 55,
     "metadata": {},
     "output_type": "execute_result"
    }
   ],
   "source": [
    "accident['District Area']"
   ]
  },
  {
   "cell_type": "code",
   "execution_count": 56,
   "id": "37845b14-c4bd-413b-864c-e20e6ebbd031",
   "metadata": {},
   "outputs": [
    {
     "name": "stdout",
     "output_type": "stream",
     "text": [
      "<class 'pandas.core.frame.DataFrame'>\n",
      "Index: 370 entries, 0 to 533337\n",
      "Data columns (total 15 columns):\n",
      " #   Column                   Non-Null Count  Dtype         \n",
      "---  ------                   --------------  -----         \n",
      " 0   Index                    370 non-null    object        \n",
      " 1   Accident_Severity        370 non-null    category      \n",
      " 2   Accident Date            370 non-null    datetime64[ns]\n",
      " 3   Latitude                 370 non-null    float64       \n",
      " 4   Light_Conditions         370 non-null    object        \n",
      " 5   District Area            370 non-null    object        \n",
      " 6   Longitude                370 non-null    float64       \n",
      " 7   Number_of_Casualties     370 non-null    int64         \n",
      " 8   Number_of_Vehicles       370 non-null    int64         \n",
      " 9   Road_Surface_Conditions  370 non-null    object        \n",
      " 10  Road_Type                368 non-null    object        \n",
      " 11  Urban_or_Rural_Area      370 non-null    object        \n",
      " 12  Weather_Conditions       369 non-null    object        \n",
      " 13  Vehicle_Type             370 non-null    object        \n",
      " 14  Day of the Week          370 non-null    object        \n",
      "dtypes: category(1), datetime64[ns](1), float64(2), int64(2), object(9)\n",
      "memory usage: 43.8+ KB\n"
     ]
    }
   ],
   "source": [
    "accident[(accident['District Area'] == 'Kensington and Chelsea') & (accident['Accident_Severity'] == 'Serious')].info()"
   ]
  },
  {
   "cell_type": "markdown",
   "id": "b9dd49e7-af7d-4024-9dd6-93ce8857571a",
   "metadata": {},
   "source": [
    "<h1>Univariate</h1>"
   ]
  },
  {
   "cell_type": "markdown",
   "id": "fc1333ae-bcfc-426b-8294-e5826159b4d5",
   "metadata": {},
   "source": [
    "<h1>1.</h1>"
   ]
  },
  {
   "cell_type": "code",
   "execution_count": 57,
   "id": "241f77ec-3b3f-4d46-a927-6ed7e29487f9",
   "metadata": {},
   "outputs": [
    {
     "data": {
      "text/plain": [
       "Accident_Severity\n",
       "Slight     563801\n",
       "Serious     88217\n",
       "Fatal        8661\n",
       "Name: count, dtype: int64"
      ]
     },
     "execution_count": 57,
     "metadata": {},
     "output_type": "execute_result"
    }
   ],
   "source": [
    "accident['Accident_Severity'].value_counts()\n"
   ]
  },
  {
   "cell_type": "markdown",
   "id": "ef4a3d80-d159-416a-add7-fc2d30a62abe",
   "metadata": {},
   "source": [
    "<h2>Insight 1 - The most accidents are slight severity but still a significant number of serious accidents need to be addressed. </h2>"
   ]
  },
  {
   "cell_type": "markdown",
   "id": "2fc92ea7-3488-4646-999e-61a20919098f",
   "metadata": {},
   "source": [
    "<h2>2.</h2>"
   ]
  },
  {
   "cell_type": "code",
   "execution_count": 58,
   "id": "886d6299-507e-41e0-acf3-aa00caad1755",
   "metadata": {},
   "outputs": [
    {
     "data": {
      "text/plain": [
       "Weather_Conditions\n",
       "Fine no high winds       520885\n",
       "Raining no high winds     79696\n",
       "Other                     17150\n",
       "Raining + high winds       9615\n",
       "Fine + high winds          8554\n",
       "Snowing no high winds      6238\n",
       "Fog or mist                3528\n",
       "Snowing + high winds        885\n",
       "Name: count, dtype: int64"
      ]
     },
     "execution_count": 58,
     "metadata": {},
     "output_type": "execute_result"
    }
   ],
   "source": [
    "accidents_by_weather = accident['Weather_Conditions'].value_counts()\n",
    "accidents_by_weather"
   ]
  },
  {
   "cell_type": "markdown",
   "id": "28a2bd4c-9694-4af5-b1e8-9e8686b8090b",
   "metadata": {},
   "source": [
    "<h2>Insight 2 - The weather that most accident often happen is Fine no high winds,</h2>"
   ]
  },
  {
   "cell_type": "markdown",
   "id": "d639e0db-be58-4d1b-a136-989d0422602d",
   "metadata": {},
   "source": [
    "<h1>3.</h1>"
   ]
  },
  {
   "cell_type": "code",
   "execution_count": 59,
   "id": "3612e90a-7189-41a6-bcb7-7e4e82dbe4b9",
   "metadata": {},
   "outputs": [],
   "source": [
    "accidents_per_year = accident.groupby(accident['Accident Date'].dt.year).size()"
   ]
  },
  {
   "cell_type": "code",
   "execution_count": 60,
   "id": "a02f91c7-6404-4be0-b5e7-499b6f190bb4",
   "metadata": {},
   "outputs": [
    {
     "data": {
      "text/plain": [
       "Accident Date\n",
       "2019    182115\n",
       "2020    170591\n",
       "2021    163554\n",
       "2022    144419\n",
       "dtype: int64"
      ]
     },
     "execution_count": 60,
     "metadata": {},
     "output_type": "execute_result"
    }
   ],
   "source": [
    "accidents_per_year"
   ]
  },
  {
   "cell_type": "markdown",
   "id": "e142c1da-1ffd-4bb0-b660-e87c80c56f72",
   "metadata": {},
   "source": [
    "<h2>Insight 3 - Accidents dropped from 182,115 in 2019 to 144,419 in 2022, showing some improvement.</h2>"
   ]
  },
  {
   "cell_type": "markdown",
   "id": "7a1b2ade-2f41-417f-a13a-7a1513467edd",
   "metadata": {},
   "source": [
    "<h1>4.</h1>"
   ]
  },
  {
   "cell_type": "code",
   "execution_count": 61,
   "id": "a1814ddc-3bef-4f95-bbe2-a0467c482b46",
   "metadata": {},
   "outputs": [],
   "source": [
    "accident['Day of the Week'] = accident['Accident Date'].dt.day_name()\n",
    "accidents_by_day = accident['Day of the Week'].value_counts()"
   ]
  },
  {
   "cell_type": "code",
   "execution_count": 62,
   "id": "3d421ab9-3a72-45f4-ac3a-a61a1750be0d",
   "metadata": {},
   "outputs": [
    {
     "data": {
      "text/plain": [
       "Day of the Week\n",
       "Saturday     107178\n",
       "Wednesday     99558\n",
       "Thursday      99511\n",
       "Friday        97900\n",
       "Tuesday       94550\n",
       "Sunday        89302\n",
       "Monday        72680\n",
       "Name: count, dtype: int64"
      ]
     },
     "execution_count": 62,
     "metadata": {},
     "output_type": "execute_result"
    }
   ],
   "source": [
    "accidents_by_day"
   ]
  },
  {
   "cell_type": "markdown",
   "id": "4407fa46-1a58-466c-8a1b-40ace7724f6d",
   "metadata": {},
   "source": [
    "<h2>Insight 4 -Accidents are more common on Saturdays maybe because more people are driving.</h2>"
   ]
  },
  {
   "cell_type": "markdown",
   "id": "6191baaa-a6e3-4522-92a2-84bc0fd01f81",
   "metadata": {},
   "source": [
    "<h1>5. district areas have the highest accident frequency for different levels of accident severity</h1>"
   ]
  },
  {
   "cell_type": "code",
   "execution_count": 63,
   "id": "5013fc17-cb82-4ff9-8007-1d0cc939ad2e",
   "metadata": {},
   "outputs": [
    {
     "name": "stderr",
     "output_type": "stream",
     "text": [
      "C:\\Users\\User\\AppData\\Local\\Temp\\ipykernel_23288\\82395745.py:1: FutureWarning: The default of observed=False is deprecated and will be changed to True in a future version of pandas. Pass observed=False to retain current behavior or observed=True to adopt the future default and silence this warning.\n",
      "  accidents_by_area_severity = accident.groupby(['District Area', 'Accident_Severity']).size().reset_index(name='Accident_Count')\n"
     ]
    },
    {
     "data": {
      "text/html": [
       "<div>\n",
       "<style scoped>\n",
       "    .dataframe tbody tr th:only-of-type {\n",
       "        vertical-align: middle;\n",
       "    }\n",
       "\n",
       "    .dataframe tbody tr th {\n",
       "        vertical-align: top;\n",
       "    }\n",
       "\n",
       "    .dataframe thead th {\n",
       "        text-align: right;\n",
       "    }\n",
       "</style>\n",
       "<table border=\"1\" class=\"dataframe\">\n",
       "  <thead>\n",
       "    <tr style=\"text-align: right;\">\n",
       "      <th></th>\n",
       "      <th>District Area</th>\n",
       "      <th>Accident_Severity</th>\n",
       "      <th>Accident_Count</th>\n",
       "    </tr>\n",
       "  </thead>\n",
       "  <tbody>\n",
       "    <tr>\n",
       "      <th>0</th>\n",
       "      <td>Aberdeen City</td>\n",
       "      <td>Fatal</td>\n",
       "      <td>12</td>\n",
       "    </tr>\n",
       "    <tr>\n",
       "      <th>1</th>\n",
       "      <td>Aberdeen City</td>\n",
       "      <td>Serious</td>\n",
       "      <td>239</td>\n",
       "    </tr>\n",
       "    <tr>\n",
       "      <th>2</th>\n",
       "      <td>Aberdeen City</td>\n",
       "      <td>Slight</td>\n",
       "      <td>1072</td>\n",
       "    </tr>\n",
       "    <tr>\n",
       "      <th>3</th>\n",
       "      <td>Aberdeenshire</td>\n",
       "      <td>Fatal</td>\n",
       "      <td>66</td>\n",
       "    </tr>\n",
       "    <tr>\n",
       "      <th>4</th>\n",
       "      <td>Aberdeenshire</td>\n",
       "      <td>Serious</td>\n",
       "      <td>463</td>\n",
       "    </tr>\n",
       "    <tr>\n",
       "      <th>...</th>\n",
       "      <td>...</td>\n",
       "      <td>...</td>\n",
       "      <td>...</td>\n",
       "    </tr>\n",
       "    <tr>\n",
       "      <th>1261</th>\n",
       "      <td>Wyre Forest</td>\n",
       "      <td>Serious</td>\n",
       "      <td>132</td>\n",
       "    </tr>\n",
       "    <tr>\n",
       "      <th>1262</th>\n",
       "      <td>Wyre Forest</td>\n",
       "      <td>Slight</td>\n",
       "      <td>815</td>\n",
       "    </tr>\n",
       "    <tr>\n",
       "      <th>1263</th>\n",
       "      <td>York</td>\n",
       "      <td>Fatal</td>\n",
       "      <td>21</td>\n",
       "    </tr>\n",
       "    <tr>\n",
       "      <th>1264</th>\n",
       "      <td>York</td>\n",
       "      <td>Serious</td>\n",
       "      <td>255</td>\n",
       "    </tr>\n",
       "    <tr>\n",
       "      <th>1265</th>\n",
       "      <td>York</td>\n",
       "      <td>Slight</td>\n",
       "      <td>1621</td>\n",
       "    </tr>\n",
       "  </tbody>\n",
       "</table>\n",
       "<p>1266 rows × 3 columns</p>\n",
       "</div>"
      ],
      "text/plain": [
       "      District Area Accident_Severity  Accident_Count\n",
       "0     Aberdeen City             Fatal              12\n",
       "1     Aberdeen City           Serious             239\n",
       "2     Aberdeen City            Slight            1072\n",
       "3     Aberdeenshire             Fatal              66\n",
       "4     Aberdeenshire           Serious             463\n",
       "...             ...               ...             ...\n",
       "1261    Wyre Forest           Serious             132\n",
       "1262    Wyre Forest            Slight             815\n",
       "1263           York             Fatal              21\n",
       "1264           York           Serious             255\n",
       "1265           York            Slight            1621\n",
       "\n",
       "[1266 rows x 3 columns]"
      ]
     },
     "execution_count": 63,
     "metadata": {},
     "output_type": "execute_result"
    }
   ],
   "source": [
    "accidents_by_area_severity = accident.groupby(['District Area', 'Accident_Severity']).size().reset_index(name='Accident_Count')\n",
    "accidents_by_area_severity"
   ]
  },
  {
   "cell_type": "markdown",
   "id": "01950156-f079-47b7-bc6c-c934fdf2e473",
   "metadata": {},
   "source": [
    "<h2>Insight 5 - Urban areas like Aberdeen City and York have the most accidents, mostly slight or serious, while rural areas like Aberdeenshire see more fatal cases. This suggests that traffic volume and road conditions impact accident severity, highlighting the need for better safety measures in high-risk areas.</h2>"
   ]
  },
  {
   "cell_type": "markdown",
   "id": "2400ab39-ab14-4636-9ae0-865b825c10ca",
   "metadata": {},
   "source": [
    "<h1> 6. Vehicles involved per accident severity</h1>"
   ]
  },
  {
   "cell_type": "markdown",
   "id": "601d4c50-a6f9-4802-85c3-8c49ecd186e3",
   "metadata": {},
   "source": [
    "severity_vec_counts = accident.groupby(\"Accident_Severity\")[\"Number_of_Vehicles\"].mean()\n",
    "severity_vec_counts"
   ]
  },
  {
   "cell_type": "markdown",
   "id": "0cce8607-0c22-43ca-8b70-7cae6edfe7b0",
   "metadata": {},
   "source": [
    "<h2>Insight 6 - Severe accidents typically involve a higher number of vehicles than slight accidents.</h2>"
   ]
  },
  {
   "cell_type": "markdown",
   "id": "f4dee676-d92f-4cf7-81fa-39e28ff420a9",
   "metadata": {},
   "source": [
    "<h1>7.  Detailed count of accidents per district and severity</h1>"
   ]
  },
  {
   "cell_type": "code",
   "execution_count": 64,
   "id": "505fa1c0-73e1-4625-aded-1c79244527ff",
   "metadata": {},
   "outputs": [
    {
     "name": "stderr",
     "output_type": "stream",
     "text": [
      "C:\\Users\\User\\AppData\\Local\\Temp\\ipykernel_23288\\3422176608.py:1: FutureWarning: The default of observed=False is deprecated and will be changed to True in a future version of pandas. Pass observed=False to retain current behavior or observed=True to adopt the future default and silence this warning.\n",
      "  urban_rural_accidents = accidents_by_area_severity.groupby(['District Area', 'Accident_Severity'])['Accident_Count'].sum().unstack().fillna(0)\n"
     ]
    },
    {
     "data": {
      "text/html": [
       "<div>\n",
       "<style scoped>\n",
       "    .dataframe tbody tr th:only-of-type {\n",
       "        vertical-align: middle;\n",
       "    }\n",
       "\n",
       "    .dataframe tbody tr th {\n",
       "        vertical-align: top;\n",
       "    }\n",
       "\n",
       "    .dataframe thead th {\n",
       "        text-align: right;\n",
       "    }\n",
       "</style>\n",
       "<table border=\"1\" class=\"dataframe\">\n",
       "  <thead>\n",
       "    <tr style=\"text-align: right;\">\n",
       "      <th>Accident_Severity</th>\n",
       "      <th>Fatal</th>\n",
       "      <th>Serious</th>\n",
       "      <th>Slight</th>\n",
       "    </tr>\n",
       "    <tr>\n",
       "      <th>District Area</th>\n",
       "      <th></th>\n",
       "      <th></th>\n",
       "      <th></th>\n",
       "    </tr>\n",
       "  </thead>\n",
       "  <tbody>\n",
       "    <tr>\n",
       "      <th>Aberdeen City</th>\n",
       "      <td>12</td>\n",
       "      <td>239</td>\n",
       "      <td>1072</td>\n",
       "    </tr>\n",
       "    <tr>\n",
       "      <th>Aberdeenshire</th>\n",
       "      <td>66</td>\n",
       "      <td>463</td>\n",
       "      <td>1401</td>\n",
       "    </tr>\n",
       "    <tr>\n",
       "      <th>Adur</th>\n",
       "      <td>8</td>\n",
       "      <td>101</td>\n",
       "      <td>510</td>\n",
       "    </tr>\n",
       "    <tr>\n",
       "      <th>Allerdale</th>\n",
       "      <td>24</td>\n",
       "      <td>143</td>\n",
       "      <td>961</td>\n",
       "    </tr>\n",
       "    <tr>\n",
       "      <th>Alnwick</th>\n",
       "      <td>6</td>\n",
       "      <td>33</td>\n",
       "      <td>193</td>\n",
       "    </tr>\n",
       "    <tr>\n",
       "      <th>...</th>\n",
       "      <td>...</td>\n",
       "      <td>...</td>\n",
       "      <td>...</td>\n",
       "    </tr>\n",
       "    <tr>\n",
       "      <th>Wychavon</th>\n",
       "      <td>30</td>\n",
       "      <td>193</td>\n",
       "      <td>1138</td>\n",
       "    </tr>\n",
       "    <tr>\n",
       "      <th>Wycombe</th>\n",
       "      <td>20</td>\n",
       "      <td>216</td>\n",
       "      <td>1493</td>\n",
       "    </tr>\n",
       "    <tr>\n",
       "      <th>Wyre</th>\n",
       "      <td>15</td>\n",
       "      <td>186</td>\n",
       "      <td>1037</td>\n",
       "    </tr>\n",
       "    <tr>\n",
       "      <th>Wyre Forest</th>\n",
       "      <td>22</td>\n",
       "      <td>132</td>\n",
       "      <td>815</td>\n",
       "    </tr>\n",
       "    <tr>\n",
       "      <th>York</th>\n",
       "      <td>21</td>\n",
       "      <td>255</td>\n",
       "      <td>1621</td>\n",
       "    </tr>\n",
       "  </tbody>\n",
       "</table>\n",
       "<p>422 rows × 3 columns</p>\n",
       "</div>"
      ],
      "text/plain": [
       "Accident_Severity  Fatal  Serious  Slight\n",
       "District Area                            \n",
       "Aberdeen City         12      239    1072\n",
       "Aberdeenshire         66      463    1401\n",
       "Adur                   8      101     510\n",
       "Allerdale             24      143     961\n",
       "Alnwick                6       33     193\n",
       "...                  ...      ...     ...\n",
       "Wychavon              30      193    1138\n",
       "Wycombe               20      216    1493\n",
       "Wyre                  15      186    1037\n",
       "Wyre Forest           22      132     815\n",
       "York                  21      255    1621\n",
       "\n",
       "[422 rows x 3 columns]"
      ]
     },
     "execution_count": 64,
     "metadata": {},
     "output_type": "execute_result"
    }
   ],
   "source": [
    "urban_rural_accidents = accidents_by_area_severity.groupby(['District Area', 'Accident_Severity'])['Accident_Count'].sum().unstack().fillna(0)\n",
    "urban_rural_accidents"
   ]
  },
  {
   "cell_type": "markdown",
   "id": "73647980-3547-4ef5-8524-1d4f42221f51",
   "metadata": {},
   "source": [
    "<h2>Insight 7 - slight accidents are the most frequent, followed by serious and fatal ones. Some districts, like Aberdeenshire and York, have notably high accident counts across all severity levels.</h2>"
   ]
  },
  {
   "cell_type": "markdown",
   "id": "95f24434-06ca-45c3-9f51-f88f4b3d017f",
   "metadata": {},
   "source": [
    "<h1>8. Type of vehicle are involved in accidents</h1>"
   ]
  },
  {
   "cell_type": "code",
   "execution_count": 65,
   "id": "27b8b1ef-73bd-4c0c-b244-592ea475d5ff",
   "metadata": {},
   "outputs": [
    {
     "data": {
      "text/plain": [
       "Vehicle_Type\n",
       "Car                                     497992\n",
       "Van / Goods 3.5 tonnes mgw or under      34160\n",
       "Bus or coach (17 or more pass seats)     25878\n",
       "Motorcycle over 500cc                    25657\n",
       "Goods 7.5 tonnes mgw and over            17307\n",
       "Name: count, dtype: int64"
      ]
     },
     "execution_count": 65,
     "metadata": {},
     "output_type": "execute_result"
    }
   ],
   "source": [
    "vehicle_counts = accident['Vehicle_Type'].value_counts().nlargest(5)\n",
    "vehicle_counts"
   ]
  },
  {
   "cell_type": "markdown",
   "id": "944c6ada-5a3a-43fd-941b-2e31fa4af117",
   "metadata": {},
   "source": [
    "<h2>Insight 8 -Cars are involved in accidents the most, significantly more than other vehicle types. Vans, buses, motorcycles, and heavy goods vehicles also contribute but at much lower numbers.</h2>"
   ]
  },
  {
   "cell_type": "markdown",
   "id": "6ead99db-fffd-46f0-aaeb-44104816403c",
   "metadata": {},
   "source": [
    "<h1> 9. What is the distribution of accidents in urban vs. rural areas? </h1>"
   ]
  },
  {
   "cell_type": "code",
   "execution_count": 66,
   "id": "3d0e9bc3-cd68-4656-b7b4-027074d4d952",
   "metadata": {},
   "outputs": [
    {
     "data": {
      "text/html": [
       "<div>\n",
       "<style scoped>\n",
       "    .dataframe tbody tr th:only-of-type {\n",
       "        vertical-align: middle;\n",
       "    }\n",
       "\n",
       "    .dataframe tbody tr th {\n",
       "        vertical-align: top;\n",
       "    }\n",
       "\n",
       "    .dataframe thead th {\n",
       "        text-align: right;\n",
       "    }\n",
       "</style>\n",
       "<table border=\"1\" class=\"dataframe\">\n",
       "  <thead>\n",
       "    <tr style=\"text-align: right;\">\n",
       "      <th></th>\n",
       "      <th>Urban_or_Rural_Area</th>\n",
       "      <th>Accident_Count</th>\n",
       "    </tr>\n",
       "  </thead>\n",
       "  <tbody>\n",
       "    <tr>\n",
       "      <th>0</th>\n",
       "      <td>Rural</td>\n",
       "      <td>238990</td>\n",
       "    </tr>\n",
       "    <tr>\n",
       "      <th>1</th>\n",
       "      <td>Unallocated</td>\n",
       "      <td>11</td>\n",
       "    </tr>\n",
       "    <tr>\n",
       "      <th>2</th>\n",
       "      <td>Urban</td>\n",
       "      <td>421663</td>\n",
       "    </tr>\n",
       "  </tbody>\n",
       "</table>\n",
       "</div>"
      ],
      "text/plain": [
       "  Urban_or_Rural_Area  Accident_Count\n",
       "0               Rural          238990\n",
       "1         Unallocated              11\n",
       "2               Urban          421663"
      ]
     },
     "execution_count": 66,
     "metadata": {},
     "output_type": "execute_result"
    }
   ],
   "source": [
    "accidents_by_area_type = accident.groupby(['Urban_or_Rural_Area']).size().reset_index(name='Accident_Count')\n",
    "accidents_by_area_type"
   ]
  },
  {
   "cell_type": "markdown",
   "id": "41f65fc7-5fef-43e6-a9c4-025faec68ce5",
   "metadata": {},
   "source": [
    "<h2>Insight 9 -Accidents are more common in urban areas than in rural areas, with urban accidents nearly doubling rural ones. Unallocated cases are minimal.</h2>"
   ]
  },
  {
   "cell_type": "markdown",
   "id": "855f2e5c-12a7-408f-99ec-e3d5c41520ac",
   "metadata": {},
   "source": [
    "<h1>10 most common road surface conditions during accidents?</h1>"
   ]
  },
  {
   "cell_type": "code",
   "execution_count": 67,
   "id": "d388b34f-edc5-4efa-bc49-eb161897e9f0",
   "metadata": {},
   "outputs": [
    {
     "data": {
      "text/html": [
       "<div>\n",
       "<style scoped>\n",
       "    .dataframe tbody tr th:only-of-type {\n",
       "        vertical-align: middle;\n",
       "    }\n",
       "\n",
       "    .dataframe tbody tr th {\n",
       "        vertical-align: top;\n",
       "    }\n",
       "\n",
       "    .dataframe thead th {\n",
       "        text-align: right;\n",
       "    }\n",
       "</style>\n",
       "<table border=\"1\" class=\"dataframe\">\n",
       "  <thead>\n",
       "    <tr style=\"text-align: right;\">\n",
       "      <th></th>\n",
       "      <th>Road_Surface_Conditions</th>\n",
       "      <th>Accident_Count</th>\n",
       "    </tr>\n",
       "  </thead>\n",
       "  <tbody>\n",
       "    <tr>\n",
       "      <th>0</th>\n",
       "      <td>Dry</td>\n",
       "      <td>447821</td>\n",
       "    </tr>\n",
       "    <tr>\n",
       "      <th>1</th>\n",
       "      <td>Flood over 3cm. deep</td>\n",
       "      <td>1017</td>\n",
       "    </tr>\n",
       "    <tr>\n",
       "      <th>2</th>\n",
       "      <td>Frost or ice</td>\n",
       "      <td>18517</td>\n",
       "    </tr>\n",
       "    <tr>\n",
       "      <th>3</th>\n",
       "      <td>Snow</td>\n",
       "      <td>5890</td>\n",
       "    </tr>\n",
       "    <tr>\n",
       "      <th>4</th>\n",
       "      <td>Wet or damp</td>\n",
       "      <td>186708</td>\n",
       "    </tr>\n",
       "  </tbody>\n",
       "</table>\n",
       "</div>"
      ],
      "text/plain": [
       "  Road_Surface_Conditions  Accident_Count\n",
       "0                     Dry          447821\n",
       "1    Flood over 3cm. deep            1017\n",
       "2            Frost or ice           18517\n",
       "3                    Snow            5890\n",
       "4             Wet or damp          186708"
      ]
     },
     "execution_count": 67,
     "metadata": {},
     "output_type": "execute_result"
    }
   ],
   "source": [
    "accidents_by_road_surface = accident.groupby(['Road_Surface_Conditions']).size().reset_index(name='Accident_Count')\n",
    "accidents_by_road_surface"
   ]
  },
  {
   "cell_type": "markdown",
   "id": "9552a947-1be2-4476-bb1f-ba5784b0b029",
   "metadata": {},
   "source": [
    "<h2>The most common road surface condition during accidents is \"Dry,\" followed by \"Wet or damp.\" Hazardous conditions like \"Frost or ice\" and \"Snow\" contribute to significantly fewer accidents, while \"Flood over 3cm deep\" has the lowest count.</h2>"
   ]
  },
  {
   "cell_type": "markdown",
   "id": "44f8877e-bc2d-45cd-9566-a36d10140f83",
   "metadata": {},
   "source": [
    "<h1>11. months or seasons have the highest accident rates</h1>"
   ]
  },
  {
   "cell_type": "code",
   "execution_count": 68,
   "id": "2463cd66-36ed-4613-8143-e04c4360225c",
   "metadata": {},
   "outputs": [
    {
     "data": {
      "text/html": [
       "<div>\n",
       "<style scoped>\n",
       "    .dataframe tbody tr th:only-of-type {\n",
       "        vertical-align: middle;\n",
       "    }\n",
       "\n",
       "    .dataframe tbody tr th {\n",
       "        vertical-align: top;\n",
       "    }\n",
       "\n",
       "    .dataframe thead th {\n",
       "        text-align: right;\n",
       "    }\n",
       "</style>\n",
       "<table border=\"1\" class=\"dataframe\">\n",
       "  <thead>\n",
       "    <tr style=\"text-align: right;\">\n",
       "      <th></th>\n",
       "      <th>Accident Date</th>\n",
       "      <th>Accident_Count</th>\n",
       "    </tr>\n",
       "  </thead>\n",
       "  <tbody>\n",
       "    <tr>\n",
       "      <th>0</th>\n",
       "      <td>1</td>\n",
       "      <td>52872</td>\n",
       "    </tr>\n",
       "    <tr>\n",
       "      <th>1</th>\n",
       "      <td>2</td>\n",
       "      <td>49491</td>\n",
       "    </tr>\n",
       "    <tr>\n",
       "      <th>2</th>\n",
       "      <td>3</td>\n",
       "      <td>54086</td>\n",
       "    </tr>\n",
       "    <tr>\n",
       "      <th>3</th>\n",
       "      <td>4</td>\n",
       "      <td>51744</td>\n",
       "    </tr>\n",
       "    <tr>\n",
       "      <th>4</th>\n",
       "      <td>5</td>\n",
       "      <td>56352</td>\n",
       "    </tr>\n",
       "    <tr>\n",
       "      <th>5</th>\n",
       "      <td>6</td>\n",
       "      <td>56481</td>\n",
       "    </tr>\n",
       "    <tr>\n",
       "      <th>6</th>\n",
       "      <td>7</td>\n",
       "      <td>57445</td>\n",
       "    </tr>\n",
       "    <tr>\n",
       "      <th>7</th>\n",
       "      <td>8</td>\n",
       "      <td>53913</td>\n",
       "    </tr>\n",
       "    <tr>\n",
       "      <th>8</th>\n",
       "      <td>9</td>\n",
       "      <td>56455</td>\n",
       "    </tr>\n",
       "    <tr>\n",
       "      <th>9</th>\n",
       "      <td>10</td>\n",
       "      <td>59580</td>\n",
       "    </tr>\n",
       "    <tr>\n",
       "      <th>10</th>\n",
       "      <td>11</td>\n",
       "      <td>60424</td>\n",
       "    </tr>\n",
       "    <tr>\n",
       "      <th>11</th>\n",
       "      <td>12</td>\n",
       "      <td>51836</td>\n",
       "    </tr>\n",
       "  </tbody>\n",
       "</table>\n",
       "</div>"
      ],
      "text/plain": [
       "    Accident Date  Accident_Count\n",
       "0               1           52872\n",
       "1               2           49491\n",
       "2               3           54086\n",
       "3               4           51744\n",
       "4               5           56352\n",
       "5               6           56481\n",
       "6               7           57445\n",
       "7               8           53913\n",
       "8               9           56455\n",
       "9              10           59580\n",
       "10             11           60424\n",
       "11             12           51836"
      ]
     },
     "execution_count": 68,
     "metadata": {},
     "output_type": "execute_result"
    }
   ],
   "source": [
    "accidents_by_month = accident.groupby(accident['Accident Date'].dt.month).size().reset_index(name='Accident_Count')\n",
    "accidents_by_month"
   ]
  },
  {
   "cell_type": "markdown",
   "id": "5814535f-823a-4a1e-b780-f7eaf38f315b",
   "metadata": {},
   "source": [
    "<h2>Accidents remain relatively steady throughout the year, but they peak in month 10 and 11, likely influenced by seasonal shifts and weather conditions.</h2>"
   ]
  },
  {
   "cell_type": "markdown",
   "id": "f3ee7955-c9af-48f5-b224-9ee546361cff",
   "metadata": {},
   "source": [
    "<h1>12. distribution of accident severity</h1>"
   ]
  },
  {
   "cell_type": "code",
   "execution_count": 69,
   "id": "ef462f04-6ec4-4cf6-a8e5-865928760f8c",
   "metadata": {},
   "outputs": [
    {
     "data": {
      "text/html": [
       "<div>\n",
       "<style scoped>\n",
       "    .dataframe tbody tr th:only-of-type {\n",
       "        vertical-align: middle;\n",
       "    }\n",
       "\n",
       "    .dataframe tbody tr th {\n",
       "        vertical-align: top;\n",
       "    }\n",
       "\n",
       "    .dataframe thead th {\n",
       "        text-align: right;\n",
       "    }\n",
       "</style>\n",
       "<table border=\"1\" class=\"dataframe\">\n",
       "  <thead>\n",
       "    <tr style=\"text-align: right;\">\n",
       "      <th></th>\n",
       "      <th>proportion</th>\n",
       "    </tr>\n",
       "    <tr>\n",
       "      <th>Accident_Severity</th>\n",
       "      <th></th>\n",
       "    </tr>\n",
       "  </thead>\n",
       "  <tbody>\n",
       "    <tr>\n",
       "      <th>Slight</th>\n",
       "      <td>85.336601</td>\n",
       "    </tr>\n",
       "    <tr>\n",
       "      <th>Serious</th>\n",
       "      <td>13.352475</td>\n",
       "    </tr>\n",
       "    <tr>\n",
       "      <th>Fatal</th>\n",
       "      <td>1.310924</td>\n",
       "    </tr>\n",
       "  </tbody>\n",
       "</table>\n",
       "</div>"
      ],
      "text/plain": [
       "                   proportion\n",
       "Accident_Severity            \n",
       "Slight              85.336601\n",
       "Serious             13.352475\n",
       "Fatal                1.310924"
      ]
     },
     "metadata": {},
     "output_type": "display_data"
    }
   ],
   "source": [
    "severity_counts = accident['Accident_Severity'].value_counts(normalize=True) * 100\n",
    "display(severity_counts.to_frame())"
   ]
  },
  {
   "cell_type": "markdown",
   "id": "25aaa8ac-affc-4d9f-ae45-4422dfa736ee",
   "metadata": {},
   "source": [
    "<h2>Insight 12 - The majority of accidents are slight (85.3%), while serious and fatal accidents are significantly lower at 13.3% and 1.3%, respectively.</h2>"
   ]
  },
  {
   "cell_type": "markdown",
   "id": "a3e17d03-ca29-420a-8f8a-485b9a7b90f4",
   "metadata": {},
   "source": [
    "<h1>13. Correlation Between Weather and Severe Accidents</h1>"
   ]
  },
  {
   "cell_type": "code",
   "execution_count": 70,
   "id": "2b7710b3-d20b-4dcd-95ad-399d44e2cccf",
   "metadata": {},
   "outputs": [
    {
     "name": "stderr",
     "output_type": "stream",
     "text": [
      "C:\\Users\\User\\AppData\\Local\\Temp\\ipykernel_23288\\1157313390.py:1: FutureWarning: The default of observed=False is deprecated and will be changed to True in a future version of pandas. Pass observed=False to retain current behavior or observed=True to adopt the future default and silence this warning.\n",
      "  weather_severity = accident.groupby(['Weather_Conditions', 'Accident_Severity']).size().unstack().reset_index()\n"
     ]
    },
    {
     "data": {
      "text/html": [
       "<div>\n",
       "<style scoped>\n",
       "    .dataframe tbody tr th:only-of-type {\n",
       "        vertical-align: middle;\n",
       "    }\n",
       "\n",
       "    .dataframe tbody tr th {\n",
       "        vertical-align: top;\n",
       "    }\n",
       "\n",
       "    .dataframe thead th {\n",
       "        text-align: right;\n",
       "    }\n",
       "</style>\n",
       "<table border=\"1\" class=\"dataframe\">\n",
       "  <thead>\n",
       "    <tr style=\"text-align: right;\">\n",
       "      <th>Accident_Severity</th>\n",
       "      <th>Weather_Conditions</th>\n",
       "      <th>Fatal</th>\n",
       "      <th>Serious</th>\n",
       "      <th>Slight</th>\n",
       "    </tr>\n",
       "  </thead>\n",
       "  <tbody>\n",
       "    <tr>\n",
       "      <th>0</th>\n",
       "      <td>Fine + high winds</td>\n",
       "      <td>175</td>\n",
       "      <td>1245</td>\n",
       "      <td>7134</td>\n",
       "    </tr>\n",
       "    <tr>\n",
       "      <th>1</th>\n",
       "      <td>Fine no high winds</td>\n",
       "      <td>7100</td>\n",
       "      <td>72046</td>\n",
       "      <td>441739</td>\n",
       "    </tr>\n",
       "    <tr>\n",
       "      <th>2</th>\n",
       "      <td>Fog or mist</td>\n",
       "      <td>82</td>\n",
       "      <td>483</td>\n",
       "      <td>2963</td>\n",
       "    </tr>\n",
       "    <tr>\n",
       "      <th>3</th>\n",
       "      <td>Other</td>\n",
       "      <td>165</td>\n",
       "      <td>1801</td>\n",
       "      <td>15184</td>\n",
       "    </tr>\n",
       "    <tr>\n",
       "      <th>4</th>\n",
       "      <td>Raining + high winds</td>\n",
       "      <td>145</td>\n",
       "      <td>1261</td>\n",
       "      <td>8209</td>\n",
       "    </tr>\n",
       "    <tr>\n",
       "      <th>5</th>\n",
       "      <td>Raining no high winds</td>\n",
       "      <td>848</td>\n",
       "      <td>9468</td>\n",
       "      <td>69380</td>\n",
       "    </tr>\n",
       "    <tr>\n",
       "      <th>6</th>\n",
       "      <td>Snowing + high winds</td>\n",
       "      <td>3</td>\n",
       "      <td>109</td>\n",
       "      <td>773</td>\n",
       "    </tr>\n",
       "    <tr>\n",
       "      <th>7</th>\n",
       "      <td>Snowing no high winds</td>\n",
       "      <td>36</td>\n",
       "      <td>565</td>\n",
       "      <td>5637</td>\n",
       "    </tr>\n",
       "  </tbody>\n",
       "</table>\n",
       "</div>"
      ],
      "text/plain": [
       "Accident_Severity     Weather_Conditions  Fatal  Serious  Slight\n",
       "0                      Fine + high winds    175     1245    7134\n",
       "1                     Fine no high winds   7100    72046  441739\n",
       "2                            Fog or mist     82      483    2963\n",
       "3                                  Other    165     1801   15184\n",
       "4                   Raining + high winds    145     1261    8209\n",
       "5                  Raining no high winds    848     9468   69380\n",
       "6                   Snowing + high winds      3      109     773\n",
       "7                  Snowing no high winds     36      565    5637"
      ]
     },
     "execution_count": 70,
     "metadata": {},
     "output_type": "execute_result"
    }
   ],
   "source": [
    "weather_severity = accident.groupby(['Weather_Conditions', 'Accident_Severity']).size().unstack().reset_index()\n",
    "weather_severity"
   ]
  },
  {
   "cell_type": "markdown",
   "id": "fe3c27f1-f73f-4613-b0ea-0aa1d746694b",
   "metadata": {},
   "source": [
    "<h2>Insight 13 - Accidents are most frequent in clear weather with no high winds, but severe accidents still occur in fog, mist, and rainy conditions, indicating that poor visibility and wet roads increase accident severity.</h2>"
   ]
  },
  {
   "cell_type": "code",
   "execution_count": 71,
   "id": "47c14392-62bb-431c-888b-a2bd64ac9c87",
   "metadata": {},
   "outputs": [
    {
     "name": "stdout",
     "output_type": "stream",
     "text": [
      "<class 'pandas.core.frame.DataFrame'>\n",
      "RangeIndex: 660679 entries, 0 to 660678\n",
      "Data columns (total 15 columns):\n",
      " #   Column                   Non-Null Count   Dtype         \n",
      "---  ------                   --------------   -----         \n",
      " 0   Index                    660679 non-null  object        \n",
      " 1   Accident_Severity        660679 non-null  category      \n",
      " 2   Accident Date            660679 non-null  datetime64[ns]\n",
      " 3   Latitude                 660654 non-null  float64       \n",
      " 4   Light_Conditions         660679 non-null  object        \n",
      " 5   District Area            660679 non-null  object        \n",
      " 6   Longitude                660653 non-null  float64       \n",
      " 7   Number_of_Casualties     660679 non-null  int64         \n",
      " 8   Number_of_Vehicles       660679 non-null  int64         \n",
      " 9   Road_Surface_Conditions  659953 non-null  object        \n",
      " 10  Road_Type                656159 non-null  object        \n",
      " 11  Urban_or_Rural_Area      660664 non-null  object        \n",
      " 12  Weather_Conditions       646551 non-null  object        \n",
      " 13  Vehicle_Type             660679 non-null  object        \n",
      " 14  Day of the Week          660679 non-null  object        \n",
      "dtypes: category(1), datetime64[ns](1), float64(2), int64(2), object(9)\n",
      "memory usage: 71.2+ MB\n"
     ]
    }
   ],
   "source": [
    "accident.info()"
   ]
  },
  {
   "cell_type": "markdown",
   "id": "abe2f447-5949-444c-aaaf-3cfd5ccd79a3",
   "metadata": {},
   "source": [
    "<h1>14. Is there a correlation between the number of vehicles and casualties</h1>"
   ]
  },
  {
   "cell_type": "code",
   "execution_count": 72,
   "id": "51d95558-e367-4203-b2e1-e6b35cfae52b",
   "metadata": {},
   "outputs": [
    {
     "data": {
      "text/html": [
       "<div>\n",
       "<style scoped>\n",
       "    .dataframe tbody tr th:only-of-type {\n",
       "        vertical-align: middle;\n",
       "    }\n",
       "\n",
       "    .dataframe tbody tr th {\n",
       "        vertical-align: top;\n",
       "    }\n",
       "\n",
       "    .dataframe thead th {\n",
       "        text-align: right;\n",
       "    }\n",
       "</style>\n",
       "<table border=\"1\" class=\"dataframe\">\n",
       "  <thead>\n",
       "    <tr style=\"text-align: right;\">\n",
       "      <th></th>\n",
       "      <th>Number_of_Vehicles</th>\n",
       "      <th>Number_of_Casualties</th>\n",
       "    </tr>\n",
       "  </thead>\n",
       "  <tbody>\n",
       "    <tr>\n",
       "      <th>0</th>\n",
       "      <td>1</td>\n",
       "      <td>235108</td>\n",
       "    </tr>\n",
       "    <tr>\n",
       "      <th>1</th>\n",
       "      <td>2</td>\n",
       "      <td>538946</td>\n",
       "    </tr>\n",
       "    <tr>\n",
       "      <th>2</th>\n",
       "      <td>3</td>\n",
       "      <td>90360</td>\n",
       "    </tr>\n",
       "    <tr>\n",
       "      <th>3</th>\n",
       "      <td>4</td>\n",
       "      <td>22550</td>\n",
       "    </tr>\n",
       "    <tr>\n",
       "      <th>4</th>\n",
       "      <td>5</td>\n",
       "      <td>5705</td>\n",
       "    </tr>\n",
       "    <tr>\n",
       "      <th>5</th>\n",
       "      <td>6</td>\n",
       "      <td>1980</td>\n",
       "    </tr>\n",
       "    <tr>\n",
       "      <th>6</th>\n",
       "      <td>7</td>\n",
       "      <td>907</td>\n",
       "    </tr>\n",
       "    <tr>\n",
       "      <th>7</th>\n",
       "      <td>8</td>\n",
       "      <td>500</td>\n",
       "    </tr>\n",
       "    <tr>\n",
       "      <th>8</th>\n",
       "      <td>9</td>\n",
       "      <td>191</td>\n",
       "    </tr>\n",
       "    <tr>\n",
       "      <th>9</th>\n",
       "      <td>10</td>\n",
       "      <td>98</td>\n",
       "    </tr>\n",
       "    <tr>\n",
       "      <th>10</th>\n",
       "      <td>11</td>\n",
       "      <td>48</td>\n",
       "    </tr>\n",
       "    <tr>\n",
       "      <th>11</th>\n",
       "      <td>12</td>\n",
       "      <td>16</td>\n",
       "    </tr>\n",
       "    <tr>\n",
       "      <th>12</th>\n",
       "      <td>13</td>\n",
       "      <td>47</td>\n",
       "    </tr>\n",
       "    <tr>\n",
       "      <th>13</th>\n",
       "      <td>14</td>\n",
       "      <td>49</td>\n",
       "    </tr>\n",
       "    <tr>\n",
       "      <th>14</th>\n",
       "      <td>15</td>\n",
       "      <td>5</td>\n",
       "    </tr>\n",
       "    <tr>\n",
       "      <th>15</th>\n",
       "      <td>16</td>\n",
       "      <td>24</td>\n",
       "    </tr>\n",
       "    <tr>\n",
       "      <th>16</th>\n",
       "      <td>19</td>\n",
       "      <td>13</td>\n",
       "    </tr>\n",
       "    <tr>\n",
       "      <th>17</th>\n",
       "      <td>28</td>\n",
       "      <td>16</td>\n",
       "    </tr>\n",
       "    <tr>\n",
       "      <th>18</th>\n",
       "      <td>32</td>\n",
       "      <td>5</td>\n",
       "    </tr>\n",
       "  </tbody>\n",
       "</table>\n",
       "</div>"
      ],
      "text/plain": [
       "    Number_of_Vehicles  Number_of_Casualties\n",
       "0                    1                235108\n",
       "1                    2                538946\n",
       "2                    3                 90360\n",
       "3                    4                 22550\n",
       "4                    5                  5705\n",
       "5                    6                  1980\n",
       "6                    7                   907\n",
       "7                    8                   500\n",
       "8                    9                   191\n",
       "9                   10                    98\n",
       "10                  11                    48\n",
       "11                  12                    16\n",
       "12                  13                    47\n",
       "13                  14                    49\n",
       "14                  15                     5\n",
       "15                  16                    24\n",
       "16                  19                    13\n",
       "17                  28                    16\n",
       "18                  32                     5"
      ]
     },
     "execution_count": 72,
     "metadata": {},
     "output_type": "execute_result"
    }
   ],
   "source": [
    "casualties_by_vehicle_count = accident.groupby('Number_of_Vehicles')['Number_of_Casualties'].sum().reset_index()\n",
    "casualties_by_vehicle_count"
   ]
  },
  {
   "cell_type": "markdown",
   "id": "960420ec-f3a0-4222-b716-ac1e3804c56b",
   "metadata": {},
   "source": [
    "<h2>Casualties increase with the number of vehicles but at a decreasing rate. Most accidents involve 1-2 vehicles, causing the highest casualties. Beyond three vehicles, the rise in casualties is less significant, indicating that severe accidents are more common in smaller collisions.</h2>"
   ]
  },
  {
   "cell_type": "markdown",
   "id": "bfa90eb8-795e-4818-a08c-2db3e821d68f",
   "metadata": {},
   "source": [
    "<h1>15. Trends in Casualties by Accident Severity</h1>"
   ]
  },
  {
   "cell_type": "code",
   "execution_count": 73,
   "id": "6d7783cb-f843-4438-9cea-84ffdea4bbb7",
   "metadata": {},
   "outputs": [
    {
     "name": "stderr",
     "output_type": "stream",
     "text": [
      "C:\\Users\\User\\AppData\\Local\\Temp\\ipykernel_23288\\4008452767.py:1: FutureWarning: The default of observed=False is deprecated and will be changed to True in a future version of pandas. Pass observed=False to retain current behavior or observed=True to adopt the future default and silence this warning.\n",
      "  casualty_trends_severity = accident.groupby(['Accident Date', 'Accident_Severity'])['Number_of_Casualties'].sum().unstack().fillna(0)\n"
     ]
    },
    {
     "data": {
      "text/html": [
       "<div>\n",
       "<style scoped>\n",
       "    .dataframe tbody tr th:only-of-type {\n",
       "        vertical-align: middle;\n",
       "    }\n",
       "\n",
       "    .dataframe tbody tr th {\n",
       "        vertical-align: top;\n",
       "    }\n",
       "\n",
       "    .dataframe thead th {\n",
       "        text-align: right;\n",
       "    }\n",
       "</style>\n",
       "<table border=\"1\" class=\"dataframe\">\n",
       "  <thead>\n",
       "    <tr style=\"text-align: right;\">\n",
       "      <th>Accident_Severity</th>\n",
       "      <th>Fatal</th>\n",
       "      <th>Serious</th>\n",
       "      <th>Slight</th>\n",
       "    </tr>\n",
       "    <tr>\n",
       "      <th>Accident Date</th>\n",
       "      <th></th>\n",
       "      <th></th>\n",
       "      <th></th>\n",
       "    </tr>\n",
       "  </thead>\n",
       "  <tbody>\n",
       "    <tr>\n",
       "      <th>2019-01-01</th>\n",
       "      <td>19</td>\n",
       "      <td>74</td>\n",
       "      <td>401</td>\n",
       "    </tr>\n",
       "    <tr>\n",
       "      <th>2019-01-02</th>\n",
       "      <td>7</td>\n",
       "      <td>79</td>\n",
       "      <td>419</td>\n",
       "    </tr>\n",
       "    <tr>\n",
       "      <th>2019-01-03</th>\n",
       "      <td>79</td>\n",
       "      <td>85</td>\n",
       "      <td>441</td>\n",
       "    </tr>\n",
       "    <tr>\n",
       "      <th>2019-01-04</th>\n",
       "      <td>8</td>\n",
       "      <td>77</td>\n",
       "      <td>468</td>\n",
       "    </tr>\n",
       "    <tr>\n",
       "      <th>2019-01-05</th>\n",
       "      <td>10</td>\n",
       "      <td>93</td>\n",
       "      <td>484</td>\n",
       "    </tr>\n",
       "    <tr>\n",
       "      <th>...</th>\n",
       "      <td>...</td>\n",
       "      <td>...</td>\n",
       "      <td>...</td>\n",
       "    </tr>\n",
       "    <tr>\n",
       "      <th>2022-12-27</th>\n",
       "      <td>8</td>\n",
       "      <td>34</td>\n",
       "      <td>224</td>\n",
       "    </tr>\n",
       "    <tr>\n",
       "      <th>2022-12-28</th>\n",
       "      <td>12</td>\n",
       "      <td>39</td>\n",
       "      <td>223</td>\n",
       "    </tr>\n",
       "    <tr>\n",
       "      <th>2022-12-29</th>\n",
       "      <td>2</td>\n",
       "      <td>46</td>\n",
       "      <td>255</td>\n",
       "    </tr>\n",
       "    <tr>\n",
       "      <th>2022-12-30</th>\n",
       "      <td>0</td>\n",
       "      <td>33</td>\n",
       "      <td>209</td>\n",
       "    </tr>\n",
       "    <tr>\n",
       "      <th>2022-12-31</th>\n",
       "      <td>8</td>\n",
       "      <td>43</td>\n",
       "      <td>211</td>\n",
       "    </tr>\n",
       "  </tbody>\n",
       "</table>\n",
       "<p>1461 rows × 3 columns</p>\n",
       "</div>"
      ],
      "text/plain": [
       "Accident_Severity  Fatal  Serious  Slight\n",
       "Accident Date                            \n",
       "2019-01-01            19       74     401\n",
       "2019-01-02             7       79     419\n",
       "2019-01-03            79       85     441\n",
       "2019-01-04             8       77     468\n",
       "2019-01-05            10       93     484\n",
       "...                  ...      ...     ...\n",
       "2022-12-27             8       34     224\n",
       "2022-12-28            12       39     223\n",
       "2022-12-29             2       46     255\n",
       "2022-12-30             0       33     209\n",
       "2022-12-31             8       43     211\n",
       "\n",
       "[1461 rows x 3 columns]"
      ]
     },
     "execution_count": 73,
     "metadata": {},
     "output_type": "execute_result"
    }
   ],
   "source": [
    "casualty_trends_severity = accident.groupby(['Accident Date', 'Accident_Severity'])['Number_of_Casualties'].sum().unstack().fillna(0)\n",
    "casualty_trends_severity\n"
   ]
  },
  {
   "cell_type": "markdown",
   "id": "aa4b2d35-e521-4e71-96c3-faa5226fc2d0",
   "metadata": {},
   "source": [
    "<h2>Fatal, serious, and slight casualties fluctuate daily, with some spikes. Monitoring trends over time can help identify high-risk periods and improve road safety measures</h2>"
   ]
  },
  {
   "cell_type": "markdown",
   "id": "339c339d-84cd-45d2-99fd-9e3703d8d6ee",
   "metadata": {},
   "source": [
    "<h1>16.  Correlation Between Severity Levels</h1>"
   ]
  },
  {
   "cell_type": "code",
   "execution_count": 74,
   "id": "e0378fda-5fb3-4e35-aa46-5e5457090f2b",
   "metadata": {},
   "outputs": [
    {
     "data": {
      "text/html": [
       "<div>\n",
       "<style scoped>\n",
       "    .dataframe tbody tr th:only-of-type {\n",
       "        vertical-align: middle;\n",
       "    }\n",
       "\n",
       "    .dataframe tbody tr th {\n",
       "        vertical-align: top;\n",
       "    }\n",
       "\n",
       "    .dataframe thead th {\n",
       "        text-align: right;\n",
       "    }\n",
       "</style>\n",
       "<table border=\"1\" class=\"dataframe\">\n",
       "  <thead>\n",
       "    <tr style=\"text-align: right;\">\n",
       "      <th>Accident_Severity</th>\n",
       "      <th>Fatal</th>\n",
       "      <th>Serious</th>\n",
       "      <th>Slight</th>\n",
       "    </tr>\n",
       "    <tr>\n",
       "      <th>Accident_Severity</th>\n",
       "      <th></th>\n",
       "      <th></th>\n",
       "      <th></th>\n",
       "    </tr>\n",
       "  </thead>\n",
       "  <tbody>\n",
       "    <tr>\n",
       "      <th>Fatal</th>\n",
       "      <td>1.000000</td>\n",
       "      <td>0.302585</td>\n",
       "      <td>0.155917</td>\n",
       "    </tr>\n",
       "    <tr>\n",
       "      <th>Serious</th>\n",
       "      <td>0.302585</td>\n",
       "      <td>1.000000</td>\n",
       "      <td>0.511648</td>\n",
       "    </tr>\n",
       "    <tr>\n",
       "      <th>Slight</th>\n",
       "      <td>0.155917</td>\n",
       "      <td>0.511648</td>\n",
       "      <td>1.000000</td>\n",
       "    </tr>\n",
       "  </tbody>\n",
       "</table>\n",
       "</div>"
      ],
      "text/plain": [
       "Accident_Severity     Fatal   Serious    Slight\n",
       "Accident_Severity                              \n",
       "Fatal              1.000000  0.302585  0.155917\n",
       "Serious            0.302585  1.000000  0.511648\n",
       "Slight             0.155917  0.511648  1.000000"
      ]
     },
     "execution_count": 74,
     "metadata": {},
     "output_type": "execute_result"
    }
   ],
   "source": [
    "correlation_matrix = casualty_trends_severity.corr()\n",
    "correlation_matrix\n"
   ]
  },
  {
   "cell_type": "markdown",
   "id": "212e64fd-0fd4-481a-954a-8b96d67834dc",
   "metadata": {},
   "source": [
    "<h2>inisght 16 - Serious and slight casualties are moderately correlated (0.51), while fatal casualties have weak links with both, suggesting most accidents result in non-fatal injuries.</h2>"
   ]
  },
  {
   "cell_type": "markdown",
   "id": "dc038bb9-70c2-416b-8ff0-2b2fcddc86d1",
   "metadata": {},
   "source": [
    "<h1>17.Average Casualties per Day of the Week</h1>"
   ]
  },
  {
   "cell_type": "code",
   "execution_count": 75,
   "id": "3a032c9c-1e4b-402c-8deb-c2435d4fbde5",
   "metadata": {},
   "outputs": [
    {
     "data": {
      "text/html": [
       "<div>\n",
       "<style scoped>\n",
       "    .dataframe tbody tr th:only-of-type {\n",
       "        vertical-align: middle;\n",
       "    }\n",
       "\n",
       "    .dataframe tbody tr th {\n",
       "        vertical-align: top;\n",
       "    }\n",
       "\n",
       "    .dataframe thead th {\n",
       "        text-align: right;\n",
       "    }\n",
       "</style>\n",
       "<table border=\"1\" class=\"dataframe\">\n",
       "  <thead>\n",
       "    <tr style=\"text-align: right;\">\n",
       "      <th>Accident_Severity</th>\n",
       "      <th>Fatal</th>\n",
       "      <th>Serious</th>\n",
       "      <th>Slight</th>\n",
       "    </tr>\n",
       "    <tr>\n",
       "      <th>Day_of_Week</th>\n",
       "      <th></th>\n",
       "      <th></th>\n",
       "      <th></th>\n",
       "    </tr>\n",
       "  </thead>\n",
       "  <tbody>\n",
       "    <tr>\n",
       "      <th>Friday</th>\n",
       "      <td>9.607656</td>\n",
       "      <td>85.980861</td>\n",
       "      <td>524.244019</td>\n",
       "    </tr>\n",
       "    <tr>\n",
       "      <th>Monday</th>\n",
       "      <td>13.269231</td>\n",
       "      <td>89.644231</td>\n",
       "      <td>409.230769</td>\n",
       "    </tr>\n",
       "    <tr>\n",
       "      <th>Saturday</th>\n",
       "      <td>11.880383</td>\n",
       "      <td>97.894737</td>\n",
       "      <td>583.023923</td>\n",
       "    </tr>\n",
       "    <tr>\n",
       "      <th>Sunday</th>\n",
       "      <td>14.793269</td>\n",
       "      <td>97.225962</td>\n",
       "      <td>499.043269</td>\n",
       "    </tr>\n",
       "    <tr>\n",
       "      <th>Thursday</th>\n",
       "      <td>9.842105</td>\n",
       "      <td>83.325359</td>\n",
       "      <td>535.875598</td>\n",
       "    </tr>\n",
       "    <tr>\n",
       "      <th>Tuesday</th>\n",
       "      <td>9.822967</td>\n",
       "      <td>82.081340</td>\n",
       "      <td>510.588517</td>\n",
       "    </tr>\n",
       "    <tr>\n",
       "      <th>Wednesday</th>\n",
       "      <td>9.784689</td>\n",
       "      <td>84.066986</td>\n",
       "      <td>533.947368</td>\n",
       "    </tr>\n",
       "  </tbody>\n",
       "</table>\n",
       "</div>"
      ],
      "text/plain": [
       "Accident_Severity      Fatal    Serious      Slight\n",
       "Day_of_Week                                        \n",
       "Friday              9.607656  85.980861  524.244019\n",
       "Monday             13.269231  89.644231  409.230769\n",
       "Saturday           11.880383  97.894737  583.023923\n",
       "Sunday             14.793269  97.225962  499.043269\n",
       "Thursday            9.842105  83.325359  535.875598\n",
       "Tuesday             9.822967  82.081340  510.588517\n",
       "Wednesday           9.784689  84.066986  533.947368"
      ]
     },
     "execution_count": 75,
     "metadata": {},
     "output_type": "execute_result"
    }
   ],
   "source": [
    "\n",
    "casualty_trends_severity.index = pd.to_datetime(casualty_trends_severity.index)\n",
    "casualty_trends_severity['Day_of_Week'] = casualty_trends_severity.index.day_name()\n",
    "average_per_day = casualty_trends_severity.groupby('Day_of_Week').mean()\n",
    "average_per_day\n"
   ]
  },
  {
   "cell_type": "markdown",
   "id": "4abd6f5e-a0e6-4af1-93d5-424655877cb8",
   "metadata": {},
   "source": [
    "<h2>Sundays have the highest fatal casualties, while serious injuries are more common on Saturdays. Slight injuries peak midweek, particularly on Wednesdays and Thursdays.</h2>"
   ]
  },
  {
   "cell_type": "markdown",
   "id": "fecd3782-7a69-4012-b5f7-e19d5d04e65f",
   "metadata": {},
   "source": [
    "<h1>18.</h1>"
   ]
  },
  {
   "cell_type": "code",
   "execution_count": 76,
   "id": "d8b6cb8f-509e-44bb-aebd-c6435626b1b5",
   "metadata": {},
   "outputs": [
    {
     "data": {
      "text/plain": [
       "Vehicle_Type\n",
       "Car                                      75.375788\n",
       "Van / Goods 3.5 tonnes mgw or under       5.170438\n",
       "Bus or coach (17 or more pass seats)      3.916879\n",
       "Motorcycle over 500cc                     3.883429\n",
       "Goods 7.5 tonnes mgw and over             2.619578\n",
       "Motorcycle 125cc and under                2.311107\n",
       "Taxi/Private hire car                     2.012172\n",
       "Motorcycle over 125cc and up to 500cc     1.158808\n",
       "Motorcycle 50cc and under                 1.150786\n",
       "Goods over 3.5t. and under 7.5t           0.922687\n",
       "Other vehicle                             0.853213\n",
       "Minibus (8 - 16 passenger seats)          0.299086\n",
       "Agricultural vehicle                      0.294697\n",
       "Pedal cycle                               0.029818\n",
       "Data missing or out of range              0.000908\n",
       "Ridden horse                              0.000605\n",
       "Name: proportion, dtype: float64"
      ]
     },
     "execution_count": 76,
     "metadata": {},
     "output_type": "execute_result"
    }
   ],
   "source": [
    "vehicle_percentage = accident['Vehicle_Type'].value_counts(normalize=True) * 100\n",
    "vehicle_percentage\n"
   ]
  },
  {
   "cell_type": "markdown",
   "id": "54f8cb79-0a32-4052-a3f6-080708f8a23f",
   "metadata": {},
   "source": [
    "<h2>Cars account for the majority of accidents (75.38%), while vans, buses, and motorcycles contribute smaller but notable shares, highlighting their involvement in road incidents.</h2>"
   ]
  },
  {
   "cell_type": "markdown",
   "id": "ba604553-79a7-49ba-bd58-630ebf426983",
   "metadata": {},
   "source": [
    "<h1>19. average number of casualties on different road surface conditions</h1>"
   ]
  },
  {
   "cell_type": "code",
   "execution_count": 77,
   "id": "fdf9f844-cf51-4e71-954d-c68bbcc6a6f9",
   "metadata": {},
   "outputs": [
    {
     "data": {
      "text/plain": [
       "Road_Surface_Conditions\n",
       "Dry                     1.334736\n",
       "Flood over 3cm. deep    1.495575\n",
       "Frost or ice            1.348815\n",
       "Snow                    1.359593\n",
       "Wet or damp             1.411064\n",
       "Name: Number_of_Casualties, dtype: float64"
      ]
     },
     "execution_count": 77,
     "metadata": {},
     "output_type": "execute_result"
    }
   ],
   "source": [
    "avg_casa_surface = accident.groupby('Road_Surface_Conditions')['Number_of_Casualties'].mean()\n",
    "avg_casa_surface"
   ]
  },
  {
   "cell_type": "markdown",
   "id": "110c7e42-8cf2-4818-8de5-f548e2920ed6",
   "metadata": {},
   "source": [
    "<h2>Insight 19 - Flooded roads have the highest casualties, followed by wet and snowy conditions, while dry roads have the lowest. Slippery surfaces increase accident severity, highlighting the need for cautious driving in bad weather.</h2>"
   ]
  },
  {
   "cell_type": "markdown",
   "id": "b80fc09c-d1ca-4ae0-9d0a-de8776b25a01",
   "metadata": {},
   "source": [
    "<h1>20. How many accidents occurred based on severity, lighting conditions, and road type </h1>"
   ]
  },
  {
   "cell_type": "code",
   "execution_count": 78,
   "id": "95c238e9-856f-448d-8601-29100d4f622a",
   "metadata": {},
   "outputs": [
    {
     "name": "stderr",
     "output_type": "stream",
     "text": [
      "C:\\Users\\User\\AppData\\Local\\Temp\\ipykernel_23288\\2707627551.py:1: FutureWarning: The default of observed=False is deprecated and will be changed to True in a future version of pandas. Pass observed=False to retain current behavior or observed=True to adopt the future default and silence this warning.\n",
      "  accident_light_road = accident.groupby(['Accident_Severity', 'Light_Conditions', 'Road_Type']).size()\n"
     ]
    },
    {
     "data": {
      "text/plain": [
       "Accident_Severity  Light_Conditions             Road_Type         \n",
       "Fatal              Darkness - lighting unknown  Dual carriageway           7\n",
       "                                                One way street             1\n",
       "                                                Roundabout                 0\n",
       "                                                Single carriageway        56\n",
       "                                                Slip road                  1\n",
       "                                                                       ...  \n",
       "Slight             Daylight                     Dual carriageway       61799\n",
       "                                                One way street          8726\n",
       "                                                Roundabout             29895\n",
       "                                                Single carriageway    310730\n",
       "                                                Slip road               4797\n",
       "Length: 75, dtype: int64"
      ]
     },
     "execution_count": 78,
     "metadata": {},
     "output_type": "execute_result"
    }
   ],
   "source": [
    "accident_light_road = accident.groupby(['Accident_Severity', 'Light_Conditions', 'Road_Type']).size()\n",
    "accident_light_road"
   ]
  },
  {
   "cell_type": "markdown",
   "id": "f76db96f-1ca1-4d9b-b084-a8be4aa02e95",
   "metadata": {},
   "source": [
    "<h2>Insight 20 - Most accidents happen on single carriageways in daylight, likely due to high traffic. However, fatal accidents are more common in darkness, especially on single carriageways, suggesting poor visibility increases severity. Better lighting and awareness can help reduce risks.</h2>"
   ]
  },
  {
   "cell_type": "code",
   "execution_count": null,
   "id": "cf5241b7-ada9-4c9b-9bc8-3bf9ab2d82d2",
   "metadata": {},
   "outputs": [],
   "source": []
  }
 ],
 "metadata": {
  "kernelspec": {
   "display_name": "Python 3 (ipykernel)",
   "language": "python",
   "name": "python3"
  },
  "language_info": {
   "codemirror_mode": {
    "name": "ipython",
    "version": 3
   },
   "file_extension": ".py",
   "mimetype": "text/x-python",
   "name": "python",
   "nbconvert_exporter": "python",
   "pygments_lexer": "ipython3",
   "version": "3.12.0"
  }
 },
 "nbformat": 4,
 "nbformat_minor": 5
}
